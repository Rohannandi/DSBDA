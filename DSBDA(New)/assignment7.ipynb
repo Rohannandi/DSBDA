{
  "cells": [
    {
      "cell_type": "markdown",
      "metadata": {
        "id": "ColOkErVcn8n"
      },
      "source": [
        "Sample Sentences"
      ]
    },
    {
      "cell_type": "code",
      "execution_count": 1,
      "metadata": {
        "id": "Lv-RdtIVcrjU"
      },
      "outputs": [],
      "source": [
        "sentence1 = \"I will walk 500 miles and I would walk 500 more. Just to be the man who walks \" + \\\n",
        "            \"a thousand miles to fall down at your door!\"\n",
        "sentence2 = \"I played the play playfully as the players were playing in the play with playfullness\""
      ]
    },
    {
      "cell_type": "markdown",
      "metadata": {
        "id": "he9Hdl7-c85Z"
      },
      "source": [
        "Tokenization"
      ]
    },
    {
      "cell_type": "code",
      "execution_count": 2,
      "metadata": {
        "colab": {
          "base_uri": "https://localhost:8080/"
        },
        "id": "nlikJEmQc-eY",
        "outputId": "e8192356-796a-428b-beb1-441f1f3ef3cd"
      },
      "outputs": [
        {
          "name": "stderr",
          "output_type": "stream",
          "text": [
            "[nltk_data] Downloading package punkt to\n",
            "[nltk_data]     C:\\Users\\Priyanka\\AppData\\Roaming\\nltk_data...\n",
            "[nltk_data]   Unzipping tokenizers\\punkt.zip.\n",
            "[nltk_data] Downloading package averaged_perceptron_tagger to\n",
            "[nltk_data]     C:\\Users\\Priyanka\\AppData\\Roaming\\nltk_data...\n",
            "[nltk_data]   Unzipping taggers\\averaged_perceptron_tagger.zip.\n",
            "[nltk_data] Downloading package stopwords to\n",
            "[nltk_data]     C:\\Users\\Priyanka\\AppData\\Roaming\\nltk_data...\n",
            "[nltk_data]   Unzipping corpora\\stopwords.zip.\n",
            "[nltk_data] Downloading package wordnet to\n",
            "[nltk_data]     C:\\Users\\Priyanka\\AppData\\Roaming\\nltk_data...\n"
          ]
        },
        {
          "name": "stdout",
          "output_type": "stream",
          "text": [
            "Tokenized words: ['I', 'will', 'walk', '500', 'miles', 'and', 'I', 'would', 'walk', '500', 'more', '.', 'Just', 'to', 'be', 'the', 'man', 'who', 'walks', 'a', 'thousand', 'miles', 'to', 'fall', 'down', 'at', 'your', 'door', '!']\n",
            "\n",
            "Tokenized sentences: ['I will walk 500 miles and I would walk 500 more.', 'Just to be the man who walks a thousand miles to fall down at your door!']\n"
          ]
        }
      ],
      "source": [
        "import nltk\n",
        "nltk.download('punkt')\n",
        "nltk.download('averaged_perceptron_tagger')\n",
        "nltk.download('stopwords')\n",
        "nltk.download('wordnet')\n",
        "from nltk import word_tokenize, sent_tokenize\n",
        "\n",
        "print('Tokenized words:', word_tokenize(sentence1))\n",
        "print('\\nTokenized sentences:', sent_tokenize(sentence1))"
      ]
    },
    {
      "cell_type": "markdown",
      "metadata": {
        "id": "oXLgN-j_eOJN"
      },
      "source": [
        "POS Tagging"
      ]
    },
    {
      "cell_type": "code",
      "execution_count": 3,
      "metadata": {
        "colab": {
          "base_uri": "https://localhost:8080/"
        },
        "id": "PEATlsb1eO66",
        "outputId": "582dfbd8-c5c2-43ca-a72e-63a4c7bf0ddf"
      },
      "outputs": [
        {
          "name": "stdout",
          "output_type": "stream",
          "text": [
            "Tagging Parts of Speech: [('I', 'PRP'), ('will', 'MD'), ('walk', 'VB'), ('500', 'CD'), ('miles', 'NNS'), ('and', 'CC'), ('I', 'PRP'), ('would', 'MD'), ('walk', 'VB'), ('500', 'CD'), ('more', 'JJR'), ('.', '.'), ('Just', 'NNP'), ('to', 'TO'), ('be', 'VB'), ('the', 'DT'), ('man', 'NN'), ('who', 'WP'), ('walks', 'VBZ'), ('a', 'DT'), ('thousand', 'NN'), ('miles', 'NNS'), ('to', 'TO'), ('fall', 'VB'), ('down', 'RP'), ('at', 'IN'), ('your', 'PRP$'), ('door', 'NN'), ('!', '.'), ('I', 'PRP'), ('played', 'VBD'), ('the', 'DT'), ('play', 'NN'), ('playfully', 'RB'), ('as', 'IN'), ('the', 'DT'), ('players', 'NNS'), ('were', 'VBD'), ('playing', 'VBG'), ('in', 'IN'), ('the', 'DT'), ('play', 'NN'), ('with', 'IN'), ('playfullness', 'NN')]\n"
          ]
        }
      ],
      "source": [
        "from nltk import pos_tag\n",
        "\n",
        "token = word_tokenize(sentence1) + word_tokenize(sentence2)\n",
        "tagged = pos_tag(token)                 \n",
        "\n",
        "print(\"Tagging Parts of Speech:\", tagged)"
      ]
    },
    {
      "cell_type": "markdown",
      "metadata": {
        "id": "SSXQjSmFeVut"
      },
      "source": [
        "Stop-Words Removal"
      ]
    },
    {
      "cell_type": "code",
      "execution_count": 4,
      "metadata": {
        "colab": {
          "base_uri": "https://localhost:8080/"
        },
        "id": "-OcsC3MreWpu",
        "outputId": "069a896b-255b-47e6-bec5-bb98b2b0be4d"
      },
      "outputs": [
        {
          "name": "stdout",
          "output_type": "stream",
          "text": [
            "Unclean version: ['I', 'will', 'walk', '500', 'miles', 'and', 'I', 'would', 'walk', '500', 'more', '.', 'Just', 'to', 'be', 'the', 'man', 'who', 'walks', 'a', 'thousand', 'miles', 'to', 'fall', 'down', 'at', 'your', 'door', '!']\n",
            "\n",
            "Cleaned version: ['I', 'walk', '500', 'miles', 'I', 'would', 'walk', '500', '.', 'Just', 'man', 'walks', 'thousand', 'miles', 'fall', 'door', '!']\n"
          ]
        }
      ],
      "source": [
        "from nltk.corpus import stopwords\n",
        "\n",
        "stop_words = stopwords.words('english')\n",
        "\n",
        "token = word_tokenize(sentence1)\n",
        "cleaned_token = []\n",
        "\n",
        "for word in token:\n",
        "    if word not in stop_words:\n",
        "        cleaned_token.append(word)\n",
        "\n",
        "print('Unclean version:', token)\n",
        "print('\\nCleaned version:', cleaned_token)"
      ]
    },
    {
      "cell_type": "markdown",
      "metadata": {
        "id": "cZOht15ueb2n"
      },
      "source": [
        "Stemming"
      ]
    },
    {
      "cell_type": "code",
      "execution_count": 5,
      "metadata": {
        "colab": {
          "base_uri": "https://localhost:8080/"
        },
        "id": "lZNqloWueck8",
        "outputId": "9b25fa23-6e95-4e01-e8ab-767fec4bcc11"
      },
      "outputs": [
        {
          "name": "stdout",
          "output_type": "stream",
          "text": [
            "i play the play play as the player were play in the play with playful\n"
          ]
        }
      ],
      "source": [
        "from nltk.stem import PorterStemmer\n",
        "\n",
        "stemmer = PorterStemmer()\n",
        "\n",
        "token = word_tokenize(sentence2)\n",
        "\n",
        "stemmed = [stemmer.stem(word) for word in token]\n",
        "print(\" \".join(stemmed))"
      ]
    },
    {
      "cell_type": "markdown",
      "metadata": {
        "id": "OB3NYmrMein0"
      },
      "source": [
        "Lemmatization"
      ]
    },
    {
      "cell_type": "code",
      "execution_count": 6,
      "metadata": {
        "colab": {
          "base_uri": "https://localhost:8080/"
        },
        "id": "KezimwrQejaO",
        "outputId": "4905ec9a-6961-4596-f258-29850115c805"
      },
      "outputs": [
        {
          "name": "stdout",
          "output_type": "stream",
          "text": [
            "I played the play playfully a the player were playing in the play with playfullness\n"
          ]
        }
      ],
      "source": [
        "from nltk.stem import WordNetLemmatizer \n",
        "\n",
        "lemmatizer = WordNetLemmatizer()\n",
        "\n",
        "token = word_tokenize(sentence2)\n",
        "\n",
        "lemmatized_output = [lemmatizer.lemmatize(word) for word in token]\n",
        "print(\" \".join(lemmatized_output))"
      ]
    }
  ],
  "metadata": {
    "colab": {
      "provenance": []
    },
    "kernelspec": {
      "display_name": "Python 3",
      "name": "python3"
    },
    "language_info": {
      "codemirror_mode": {
        "name": "ipython",
        "version": 3
      },
      "file_extension": ".py",
      "mimetype": "text/x-python",
      "name": "python",
      "nbconvert_exporter": "python",
      "pygments_lexer": "ipython3",
      "version": "3.11.3"
    }
  },
  "nbformat": 4,
  "nbformat_minor": 0
}
